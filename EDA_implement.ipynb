{
 "cells": [
  {
   "cell_type": "markdown",
   "metadata": {},
   "source": [
    "- Danceability: a metric for determining how \"danceable\" a song is.\n",
    "- Energy: a subjective assessment of activity and intensity.\n",
    "- Instrumentality: whether or not a song has no vocals (pure instrumental).\n",
    "- Liveness: refers to the presence of an audience in a song, such as at a performance.\n",
    "- Loudness: The decibel level of a song.\n",
    "- Mode: Minor or Major mode.\n",
    "- Speechiness: in a song, the presence of words.\n",
    "- Tempo: Beats per minute (BPM)"
   ]
  },
  {
   "cell_type": "code",
   "execution_count": 157,
   "metadata": {},
   "outputs": [],
   "source": [
    "import pandas as pd\n",
    "import numpy as np\n",
    "import matplotlib.pyplot as plt\n",
    "import seaborn as sns\n",
    "import plotly.express as px "
   ]
  },
  {
   "cell_type": "code",
   "execution_count": 158,
   "metadata": {},
   "outputs": [
    {
     "data": {
      "text/html": [
       "<div>\n",
       "<style scoped>\n",
       "    .dataframe tbody tr th:only-of-type {\n",
       "        vertical-align: middle;\n",
       "    }\n",
       "\n",
       "    .dataframe tbody tr th {\n",
       "        vertical-align: top;\n",
       "    }\n",
       "\n",
       "    .dataframe thead th {\n",
       "        text-align: right;\n",
       "    }\n",
       "</style>\n",
       "<table border=\"1\" class=\"dataframe\">\n",
       "  <thead>\n",
       "    <tr style=\"text-align: right;\">\n",
       "      <th></th>\n",
       "      <th>artist_id</th>\n",
       "      <th>artist_name</th>\n",
       "      <th>album_id</th>\n",
       "      <th>album_name</th>\n",
       "      <th>genres</th>\n",
       "      <th>followers</th>\n",
       "      <th>popularity</th>\n",
       "      <th>link_image</th>\n",
       "      <th>url</th>\n",
       "      <th>album_type</th>\n",
       "      <th>...</th>\n",
       "      <th>key</th>\n",
       "      <th>loudness</th>\n",
       "      <th>mode</th>\n",
       "      <th>speechiness</th>\n",
       "      <th>acousticness</th>\n",
       "      <th>instrumentalness</th>\n",
       "      <th>liveness</th>\n",
       "      <th>valence</th>\n",
       "      <th>tempo</th>\n",
       "      <th>time_signature</th>\n",
       "    </tr>\n",
       "  </thead>\n",
       "  <tbody>\n",
       "    <tr>\n",
       "      <th>0</th>\n",
       "      <td>00AFbqxvdDK6T1D6MQZ9c1</td>\n",
       "      <td>GLAY</td>\n",
       "      <td>0rWkjySGI1Ttr4MS7xTQNA</td>\n",
       "      <td>rare collectives vol.4</td>\n",
       "      <td>classic j-pop</td>\n",
       "      <td>590825</td>\n",
       "      <td>56</td>\n",
       "      <td>https://i.scdn.co/image/ab6761610000e5ebc20088...</td>\n",
       "      <td>https://open.spotify.com/artist/00AFbqxvdDK6T1...</td>\n",
       "      <td>album</td>\n",
       "      <td>...</td>\n",
       "      <td>4</td>\n",
       "      <td>-10.697</td>\n",
       "      <td>1</td>\n",
       "      <td>0.0315</td>\n",
       "      <td>0.9520</td>\n",
       "      <td>0.000175</td>\n",
       "      <td>0.104</td>\n",
       "      <td>0.250</td>\n",
       "      <td>74.979</td>\n",
       "      <td>4</td>\n",
       "    </tr>\n",
       "    <tr>\n",
       "      <th>1</th>\n",
       "      <td>00AFbqxvdDK6T1D6MQZ9c1</td>\n",
       "      <td>GLAY</td>\n",
       "      <td>0rWkjySGI1Ttr4MS7xTQNA</td>\n",
       "      <td>rare collectives vol.4</td>\n",
       "      <td>j-pop</td>\n",
       "      <td>590825</td>\n",
       "      <td>56</td>\n",
       "      <td>https://i.scdn.co/image/ab6761610000e5ebc20088...</td>\n",
       "      <td>https://open.spotify.com/artist/00AFbqxvdDK6T1...</td>\n",
       "      <td>album</td>\n",
       "      <td>...</td>\n",
       "      <td>4</td>\n",
       "      <td>-10.697</td>\n",
       "      <td>1</td>\n",
       "      <td>0.0315</td>\n",
       "      <td>0.9520</td>\n",
       "      <td>0.000175</td>\n",
       "      <td>0.104</td>\n",
       "      <td>0.250</td>\n",
       "      <td>74.979</td>\n",
       "      <td>4</td>\n",
       "    </tr>\n",
       "    <tr>\n",
       "      <th>2</th>\n",
       "      <td>00PLVqZ4oaOmbI4lacLUBO</td>\n",
       "      <td>Stiftelsen</td>\n",
       "      <td>6vYiIkw80Btuehht8d0C8n</td>\n",
       "      <td>Allting låter som Slipknot</td>\n",
       "      <td>classic swedish pop</td>\n",
       "      <td>237999</td>\n",
       "      <td>53</td>\n",
       "      <td>https://i.scdn.co/image/ab6761610000e5eb9fd5de...</td>\n",
       "      <td>https://open.spotify.com/artist/00PLVqZ4oaOmbI...</td>\n",
       "      <td>album</td>\n",
       "      <td>...</td>\n",
       "      <td>0</td>\n",
       "      <td>-6.164</td>\n",
       "      <td>1</td>\n",
       "      <td>0.0476</td>\n",
       "      <td>0.0448</td>\n",
       "      <td>0.000033</td>\n",
       "      <td>0.122</td>\n",
       "      <td>0.330</td>\n",
       "      <td>139.978</td>\n",
       "      <td>4</td>\n",
       "    </tr>\n",
       "    <tr>\n",
       "      <th>3</th>\n",
       "      <td>00FQb4jTyendYWaN8pK0wa</td>\n",
       "      <td>Lana Del Rey</td>\n",
       "      <td>0Dt3FbpMQwjoT5KNAw0IXR</td>\n",
       "      <td>Born To Die – Paradise Edition (Special Version)</td>\n",
       "      <td>art pop</td>\n",
       "      <td>40266213</td>\n",
       "      <td>92</td>\n",
       "      <td>https://i.scdn.co/image/ab6761610000e5ebb99cac...</td>\n",
       "      <td>https://open.spotify.com/artist/00FQb4jTyendYW...</td>\n",
       "      <td>album</td>\n",
       "      <td>...</td>\n",
       "      <td>0</td>\n",
       "      <td>-5.520</td>\n",
       "      <td>1</td>\n",
       "      <td>0.0340</td>\n",
       "      <td>0.1280</td>\n",
       "      <td>0.000002</td>\n",
       "      <td>0.383</td>\n",
       "      <td>0.189</td>\n",
       "      <td>93.763</td>\n",
       "      <td>4</td>\n",
       "    </tr>\n",
       "    <tr>\n",
       "      <th>4</th>\n",
       "      <td>00FQb4jTyendYWaN8pK0wa</td>\n",
       "      <td>Lana Del Rey</td>\n",
       "      <td>0Dt3FbpMQwjoT5KNAw0IXR</td>\n",
       "      <td>Born To Die – Paradise Edition (Special Version)</td>\n",
       "      <td>pop</td>\n",
       "      <td>40266213</td>\n",
       "      <td>92</td>\n",
       "      <td>https://i.scdn.co/image/ab6761610000e5ebb99cac...</td>\n",
       "      <td>https://open.spotify.com/artist/00FQb4jTyendYW...</td>\n",
       "      <td>album</td>\n",
       "      <td>...</td>\n",
       "      <td>0</td>\n",
       "      <td>-5.520</td>\n",
       "      <td>1</td>\n",
       "      <td>0.0340</td>\n",
       "      <td>0.1280</td>\n",
       "      <td>0.000002</td>\n",
       "      <td>0.383</td>\n",
       "      <td>0.189</td>\n",
       "      <td>93.763</td>\n",
       "      <td>4</td>\n",
       "    </tr>\n",
       "  </tbody>\n",
       "</table>\n",
       "<p>5 rows × 28 columns</p>\n",
       "</div>"
      ],
      "text/plain": [
       "                artist_id   artist_name                album_id  \\\n",
       "0  00AFbqxvdDK6T1D6MQZ9c1          GLAY  0rWkjySGI1Ttr4MS7xTQNA   \n",
       "1  00AFbqxvdDK6T1D6MQZ9c1          GLAY  0rWkjySGI1Ttr4MS7xTQNA   \n",
       "2  00PLVqZ4oaOmbI4lacLUBO    Stiftelsen  6vYiIkw80Btuehht8d0C8n   \n",
       "3  00FQb4jTyendYWaN8pK0wa  Lana Del Rey  0Dt3FbpMQwjoT5KNAw0IXR   \n",
       "4  00FQb4jTyendYWaN8pK0wa  Lana Del Rey  0Dt3FbpMQwjoT5KNAw0IXR   \n",
       "\n",
       "                                         album_name               genres  \\\n",
       "0                            rare collectives vol.4        classic j-pop   \n",
       "1                            rare collectives vol.4                j-pop   \n",
       "2                        Allting låter som Slipknot  classic swedish pop   \n",
       "3  Born To Die – Paradise Edition (Special Version)              art pop   \n",
       "4  Born To Die – Paradise Edition (Special Version)                  pop   \n",
       "\n",
       "   followers  popularity                                         link_image  \\\n",
       "0     590825          56  https://i.scdn.co/image/ab6761610000e5ebc20088...   \n",
       "1     590825          56  https://i.scdn.co/image/ab6761610000e5ebc20088...   \n",
       "2     237999          53  https://i.scdn.co/image/ab6761610000e5eb9fd5de...   \n",
       "3   40266213          92  https://i.scdn.co/image/ab6761610000e5ebb99cac...   \n",
       "4   40266213          92  https://i.scdn.co/image/ab6761610000e5ebb99cac...   \n",
       "\n",
       "                                                 url album_type  ...  key  \\\n",
       "0  https://open.spotify.com/artist/00AFbqxvdDK6T1...      album  ...    4   \n",
       "1  https://open.spotify.com/artist/00AFbqxvdDK6T1...      album  ...    4   \n",
       "2  https://open.spotify.com/artist/00PLVqZ4oaOmbI...      album  ...    0   \n",
       "3  https://open.spotify.com/artist/00FQb4jTyendYW...      album  ...    0   \n",
       "4  https://open.spotify.com/artist/00FQb4jTyendYW...      album  ...    0   \n",
       "\n",
       "  loudness mode speechiness acousticness instrumentalness  liveness  valence  \\\n",
       "0  -10.697    1      0.0315       0.9520         0.000175     0.104    0.250   \n",
       "1  -10.697    1      0.0315       0.9520         0.000175     0.104    0.250   \n",
       "2   -6.164    1      0.0476       0.0448         0.000033     0.122    0.330   \n",
       "3   -5.520    1      0.0340       0.1280         0.000002     0.383    0.189   \n",
       "4   -5.520    1      0.0340       0.1280         0.000002     0.383    0.189   \n",
       "\n",
       "     tempo  time_signature  \n",
       "0   74.979               4  \n",
       "1   74.979               4  \n",
       "2  139.978               4  \n",
       "3   93.763               4  \n",
       "4   93.763               4  \n",
       "\n",
       "[5 rows x 28 columns]"
      ]
     },
     "execution_count": 158,
     "metadata": {},
     "output_type": "execute_result"
    }
   ],
   "source": [
    "df = pd.read_csv(\"data/combine.csv\")\n",
    "df.head()"
   ]
  },
  {
   "cell_type": "code",
   "execution_count": 159,
   "metadata": {},
   "outputs": [
    {
     "data": {
      "text/html": [
       "<div>\n",
       "<style scoped>\n",
       "    .dataframe tbody tr th:only-of-type {\n",
       "        vertical-align: middle;\n",
       "    }\n",
       "\n",
       "    .dataframe tbody tr th {\n",
       "        vertical-align: top;\n",
       "    }\n",
       "\n",
       "    .dataframe thead th {\n",
       "        text-align: right;\n",
       "    }\n",
       "</style>\n",
       "<table border=\"1\" class=\"dataframe\">\n",
       "  <thead>\n",
       "    <tr style=\"text-align: right;\">\n",
       "      <th></th>\n",
       "      <th>count</th>\n",
       "      <th>mean</th>\n",
       "      <th>std</th>\n",
       "      <th>min</th>\n",
       "      <th>25%</th>\n",
       "      <th>50%</th>\n",
       "      <th>75%</th>\n",
       "      <th>max</th>\n",
       "    </tr>\n",
       "  </thead>\n",
       "  <tbody>\n",
       "    <tr>\n",
       "      <th>followers</th>\n",
       "      <td>1133.0</td>\n",
       "      <td>1.328143e+07</td>\n",
       "      <td>1.857433e+07</td>\n",
       "      <td>941.000000</td>\n",
       "      <td>590825.0000</td>\n",
       "      <td>590825.000000</td>\n",
       "      <td>4.026621e+07</td>\n",
       "      <td>4.026621e+07</td>\n",
       "    </tr>\n",
       "    <tr>\n",
       "      <th>popularity</th>\n",
       "      <td>1133.0</td>\n",
       "      <td>6.558694e+01</td>\n",
       "      <td>2.010385e+01</td>\n",
       "      <td>14.000000</td>\n",
       "      <td>56.0000</td>\n",
       "      <td>56.000000</td>\n",
       "      <td>9.200000e+01</td>\n",
       "      <td>9.200000e+01</td>\n",
       "    </tr>\n",
       "    <tr>\n",
       "      <th>total_tracks</th>\n",
       "      <td>1133.0</td>\n",
       "      <td>1.585260e+01</td>\n",
       "      <td>5.343037e+00</td>\n",
       "      <td>4.000000</td>\n",
       "      <td>11.0000</td>\n",
       "      <td>14.000000</td>\n",
       "      <td>2.100000e+01</td>\n",
       "      <td>2.500000e+01</td>\n",
       "    </tr>\n",
       "    <tr>\n",
       "      <th>danceability</th>\n",
       "      <td>1133.0</td>\n",
       "      <td>4.510124e-01</td>\n",
       "      <td>1.320411e-01</td>\n",
       "      <td>0.119000</td>\n",
       "      <td>0.3520</td>\n",
       "      <td>0.456000</td>\n",
       "      <td>5.440000e-01</td>\n",
       "      <td>9.320000e-01</td>\n",
       "    </tr>\n",
       "    <tr>\n",
       "      <th>energy</th>\n",
       "      <td>1133.0</td>\n",
       "      <td>6.793259e-01</td>\n",
       "      <td>2.637459e-01</td>\n",
       "      <td>0.018700</td>\n",
       "      <td>0.4920</td>\n",
       "      <td>0.739000</td>\n",
       "      <td>9.100000e-01</td>\n",
       "      <td>9.950000e-01</td>\n",
       "    </tr>\n",
       "    <tr>\n",
       "      <th>key</th>\n",
       "      <td>1133.0</td>\n",
       "      <td>4.894086e+00</td>\n",
       "      <td>3.734011e+00</td>\n",
       "      <td>0.000000</td>\n",
       "      <td>2.0000</td>\n",
       "      <td>4.000000</td>\n",
       "      <td>9.000000e+00</td>\n",
       "      <td>1.100000e+01</td>\n",
       "    </tr>\n",
       "    <tr>\n",
       "      <th>loudness</th>\n",
       "      <td>1133.0</td>\n",
       "      <td>-6.854836e+00</td>\n",
       "      <td>3.957168e+00</td>\n",
       "      <td>-28.076000</td>\n",
       "      <td>-8.3460</td>\n",
       "      <td>-5.912000</td>\n",
       "      <td>-4.304000e+00</td>\n",
       "      <td>4.400000e-01</td>\n",
       "    </tr>\n",
       "    <tr>\n",
       "      <th>mode</th>\n",
       "      <td>1133.0</td>\n",
       "      <td>6.751986e-01</td>\n",
       "      <td>4.685074e-01</td>\n",
       "      <td>0.000000</td>\n",
       "      <td>0.0000</td>\n",
       "      <td>1.000000</td>\n",
       "      <td>1.000000e+00</td>\n",
       "      <td>1.000000e+00</td>\n",
       "    </tr>\n",
       "    <tr>\n",
       "      <th>speechiness</th>\n",
       "      <td>1133.0</td>\n",
       "      <td>5.873504e-02</td>\n",
       "      <td>4.637692e-02</td>\n",
       "      <td>0.024500</td>\n",
       "      <td>0.0329</td>\n",
       "      <td>0.042100</td>\n",
       "      <td>6.470000e-02</td>\n",
       "      <td>4.140000e-01</td>\n",
       "    </tr>\n",
       "    <tr>\n",
       "      <th>acousticness</th>\n",
       "      <td>1133.0</td>\n",
       "      <td>2.926484e-01</td>\n",
       "      <td>3.400177e-01</td>\n",
       "      <td>0.000005</td>\n",
       "      <td>0.0100</td>\n",
       "      <td>0.114000</td>\n",
       "      <td>5.420000e-01</td>\n",
       "      <td>9.890000e-01</td>\n",
       "    </tr>\n",
       "    <tr>\n",
       "      <th>instrumentalness</th>\n",
       "      <td>1133.0</td>\n",
       "      <td>3.390759e-02</td>\n",
       "      <td>1.331096e-01</td>\n",
       "      <td>0.000000</td>\n",
       "      <td>0.0000</td>\n",
       "      <td>0.000003</td>\n",
       "      <td>3.920000e-04</td>\n",
       "      <td>9.590000e-01</td>\n",
       "    </tr>\n",
       "    <tr>\n",
       "      <th>liveness</th>\n",
       "      <td>1133.0</td>\n",
       "      <td>2.047279e-01</td>\n",
       "      <td>1.588388e-01</td>\n",
       "      <td>0.020900</td>\n",
       "      <td>0.1020</td>\n",
       "      <td>0.140000</td>\n",
       "      <td>2.760000e-01</td>\n",
       "      <td>9.660000e-01</td>\n",
       "    </tr>\n",
       "    <tr>\n",
       "      <th>valence</th>\n",
       "      <td>1133.0</td>\n",
       "      <td>4.006657e-01</td>\n",
       "      <td>2.235992e-01</td>\n",
       "      <td>0.029100</td>\n",
       "      <td>0.2020</td>\n",
       "      <td>0.390000</td>\n",
       "      <td>5.530000e-01</td>\n",
       "      <td>9.750000e-01</td>\n",
       "    </tr>\n",
       "    <tr>\n",
       "      <th>tempo</th>\n",
       "      <td>1133.0</td>\n",
       "      <td>1.264522e+02</td>\n",
       "      <td>3.304696e+01</td>\n",
       "      <td>60.127000</td>\n",
       "      <td>100.0770</td>\n",
       "      <td>124.991000</td>\n",
       "      <td>1.497710e+02</td>\n",
       "      <td>2.048250e+02</td>\n",
       "    </tr>\n",
       "    <tr>\n",
       "      <th>time_signature</th>\n",
       "      <td>1133.0</td>\n",
       "      <td>3.917917e+00</td>\n",
       "      <td>4.300611e-01</td>\n",
       "      <td>1.000000</td>\n",
       "      <td>4.0000</td>\n",
       "      <td>4.000000</td>\n",
       "      <td>4.000000e+00</td>\n",
       "      <td>5.000000e+00</td>\n",
       "    </tr>\n",
       "  </tbody>\n",
       "</table>\n",
       "</div>"
      ],
      "text/plain": [
       "                   count          mean           std         min          25%  \\\n",
       "followers         1133.0  1.328143e+07  1.857433e+07  941.000000  590825.0000   \n",
       "popularity        1133.0  6.558694e+01  2.010385e+01   14.000000      56.0000   \n",
       "total_tracks      1133.0  1.585260e+01  5.343037e+00    4.000000      11.0000   \n",
       "danceability      1133.0  4.510124e-01  1.320411e-01    0.119000       0.3520   \n",
       "energy            1133.0  6.793259e-01  2.637459e-01    0.018700       0.4920   \n",
       "key               1133.0  4.894086e+00  3.734011e+00    0.000000       2.0000   \n",
       "loudness          1133.0 -6.854836e+00  3.957168e+00  -28.076000      -8.3460   \n",
       "mode              1133.0  6.751986e-01  4.685074e-01    0.000000       0.0000   \n",
       "speechiness       1133.0  5.873504e-02  4.637692e-02    0.024500       0.0329   \n",
       "acousticness      1133.0  2.926484e-01  3.400177e-01    0.000005       0.0100   \n",
       "instrumentalness  1133.0  3.390759e-02  1.331096e-01    0.000000       0.0000   \n",
       "liveness          1133.0  2.047279e-01  1.588388e-01    0.020900       0.1020   \n",
       "valence           1133.0  4.006657e-01  2.235992e-01    0.029100       0.2020   \n",
       "tempo             1133.0  1.264522e+02  3.304696e+01   60.127000     100.0770   \n",
       "time_signature    1133.0  3.917917e+00  4.300611e-01    1.000000       4.0000   \n",
       "\n",
       "                            50%           75%           max  \n",
       "followers         590825.000000  4.026621e+07  4.026621e+07  \n",
       "popularity            56.000000  9.200000e+01  9.200000e+01  \n",
       "total_tracks          14.000000  2.100000e+01  2.500000e+01  \n",
       "danceability           0.456000  5.440000e-01  9.320000e-01  \n",
       "energy                 0.739000  9.100000e-01  9.950000e-01  \n",
       "key                    4.000000  9.000000e+00  1.100000e+01  \n",
       "loudness              -5.912000 -4.304000e+00  4.400000e-01  \n",
       "mode                   1.000000  1.000000e+00  1.000000e+00  \n",
       "speechiness            0.042100  6.470000e-02  4.140000e-01  \n",
       "acousticness           0.114000  5.420000e-01  9.890000e-01  \n",
       "instrumentalness       0.000003  3.920000e-04  9.590000e-01  \n",
       "liveness               0.140000  2.760000e-01  9.660000e-01  \n",
       "valence                0.390000  5.530000e-01  9.750000e-01  \n",
       "tempo                124.991000  1.497710e+02  2.048250e+02  \n",
       "time_signature         4.000000  4.000000e+00  5.000000e+00  "
      ]
     },
     "execution_count": 159,
     "metadata": {},
     "output_type": "execute_result"
    }
   ],
   "source": [
    "df.describe().T"
   ]
  },
  {
   "cell_type": "code",
   "execution_count": 160,
   "metadata": {},
   "outputs": [],
   "source": [
    "df.drop(['album_type', 'release_date_precision'], axis = 1, inplace = True)"
   ]
  },
  {
   "cell_type": "markdown",
   "metadata": {},
   "source": [
    "### Exploratory Data Analysis (EDA)"
   ]
  },
  {
   "cell_type": "markdown",
   "metadata": {},
   "source": [
    "- Best Playlist"
   ]
  },
  {
   "cell_type": "code",
   "execution_count": 161,
   "metadata": {},
   "outputs": [
    {
     "data": {
      "text/plain": [
       "40266213"
      ]
     },
     "execution_count": 161,
     "metadata": {},
     "output_type": "execute_result"
    }
   ],
   "source": [
    "df['followers'].max()"
   ]
  },
  {
   "cell_type": "code",
   "execution_count": 162,
   "metadata": {},
   "outputs": [
    {
     "name": "stdout",
     "output_type": "stream",
     "text": [
      "Best PLaylist\n",
      " 3       Lana Del Rey\n",
      "4       Lana Del Rey\n",
      "5       Lana Del Rey\n",
      "6       Lana Del Rey\n",
      "9       Lana Del Rey\n",
      "            ...     \n",
      "1100    Lana Del Rey\n",
      "1102    Lana Del Rey\n",
      "1103    Lana Del Rey\n",
      "1112    Lana Del Rey\n",
      "1113    Lana Del Rey\n",
      "Name: artist_name, Length: 364, dtype: object\n"
     ]
    },
    {
     "data": {
      "text/html": [
       "<div>\n",
       "<style scoped>\n",
       "    .dataframe tbody tr th:only-of-type {\n",
       "        vertical-align: middle;\n",
       "    }\n",
       "\n",
       "    .dataframe tbody tr th {\n",
       "        vertical-align: top;\n",
       "    }\n",
       "\n",
       "    .dataframe thead th {\n",
       "        text-align: right;\n",
       "    }\n",
       "</style>\n",
       "<table border=\"1\" class=\"dataframe\">\n",
       "  <thead>\n",
       "    <tr style=\"text-align: right;\">\n",
       "      <th></th>\n",
       "      <th>artist_id</th>\n",
       "      <th>artist_name</th>\n",
       "      <th>album_id</th>\n",
       "      <th>album_name</th>\n",
       "      <th>genres</th>\n",
       "      <th>followers</th>\n",
       "      <th>popularity</th>\n",
       "      <th>link_image</th>\n",
       "      <th>url</th>\n",
       "      <th>total_tracks</th>\n",
       "      <th>...</th>\n",
       "      <th>key</th>\n",
       "      <th>loudness</th>\n",
       "      <th>mode</th>\n",
       "      <th>speechiness</th>\n",
       "      <th>acousticness</th>\n",
       "      <th>instrumentalness</th>\n",
       "      <th>liveness</th>\n",
       "      <th>valence</th>\n",
       "      <th>tempo</th>\n",
       "      <th>time_signature</th>\n",
       "    </tr>\n",
       "  </thead>\n",
       "  <tbody>\n",
       "    <tr>\n",
       "      <th>3</th>\n",
       "      <td>00FQb4jTyendYWaN8pK0wa</td>\n",
       "      <td>Lana Del Rey</td>\n",
       "      <td>0Dt3FbpMQwjoT5KNAw0IXR</td>\n",
       "      <td>Born To Die – Paradise Edition (Special Version)</td>\n",
       "      <td>art pop</td>\n",
       "      <td>40266213</td>\n",
       "      <td>92</td>\n",
       "      <td>https://i.scdn.co/image/ab6761610000e5ebb99cac...</td>\n",
       "      <td>https://open.spotify.com/artist/00FQb4jTyendYW...</td>\n",
       "      <td>24</td>\n",
       "      <td>...</td>\n",
       "      <td>0</td>\n",
       "      <td>-5.520</td>\n",
       "      <td>1</td>\n",
       "      <td>0.0340</td>\n",
       "      <td>0.1280</td>\n",
       "      <td>0.000002</td>\n",
       "      <td>0.3830</td>\n",
       "      <td>0.1890</td>\n",
       "      <td>93.763</td>\n",
       "      <td>4</td>\n",
       "    </tr>\n",
       "    <tr>\n",
       "      <th>4</th>\n",
       "      <td>00FQb4jTyendYWaN8pK0wa</td>\n",
       "      <td>Lana Del Rey</td>\n",
       "      <td>0Dt3FbpMQwjoT5KNAw0IXR</td>\n",
       "      <td>Born To Die – Paradise Edition (Special Version)</td>\n",
       "      <td>pop</td>\n",
       "      <td>40266213</td>\n",
       "      <td>92</td>\n",
       "      <td>https://i.scdn.co/image/ab6761610000e5ebb99cac...</td>\n",
       "      <td>https://open.spotify.com/artist/00FQb4jTyendYW...</td>\n",
       "      <td>24</td>\n",
       "      <td>...</td>\n",
       "      <td>0</td>\n",
       "      <td>-5.520</td>\n",
       "      <td>1</td>\n",
       "      <td>0.0340</td>\n",
       "      <td>0.1280</td>\n",
       "      <td>0.000002</td>\n",
       "      <td>0.3830</td>\n",
       "      <td>0.1890</td>\n",
       "      <td>93.763</td>\n",
       "      <td>4</td>\n",
       "    </tr>\n",
       "    <tr>\n",
       "      <th>5</th>\n",
       "      <td>00FQb4jTyendYWaN8pK0wa</td>\n",
       "      <td>Lana Del Rey</td>\n",
       "      <td>5VoeRuTrGhTbKelUfwymwu</td>\n",
       "      <td>Born To Die - The Paradise Edition</td>\n",
       "      <td>art pop</td>\n",
       "      <td>40266213</td>\n",
       "      <td>92</td>\n",
       "      <td>https://i.scdn.co/image/ab6761610000e5ebb99cac...</td>\n",
       "      <td>https://open.spotify.com/artist/00FQb4jTyendYW...</td>\n",
       "      <td>23</td>\n",
       "      <td>...</td>\n",
       "      <td>6</td>\n",
       "      <td>-9.595</td>\n",
       "      <td>0</td>\n",
       "      <td>0.0348</td>\n",
       "      <td>0.8110</td>\n",
       "      <td>0.000001</td>\n",
       "      <td>0.0870</td>\n",
       "      <td>0.1810</td>\n",
       "      <td>72.847</td>\n",
       "      <td>5</td>\n",
       "    </tr>\n",
       "    <tr>\n",
       "      <th>6</th>\n",
       "      <td>00FQb4jTyendYWaN8pK0wa</td>\n",
       "      <td>Lana Del Rey</td>\n",
       "      <td>5VoeRuTrGhTbKelUfwymwu</td>\n",
       "      <td>Born To Die - The Paradise Edition</td>\n",
       "      <td>pop</td>\n",
       "      <td>40266213</td>\n",
       "      <td>92</td>\n",
       "      <td>https://i.scdn.co/image/ab6761610000e5ebb99cac...</td>\n",
       "      <td>https://open.spotify.com/artist/00FQb4jTyendYW...</td>\n",
       "      <td>23</td>\n",
       "      <td>...</td>\n",
       "      <td>6</td>\n",
       "      <td>-9.595</td>\n",
       "      <td>0</td>\n",
       "      <td>0.0348</td>\n",
       "      <td>0.8110</td>\n",
       "      <td>0.000001</td>\n",
       "      <td>0.0870</td>\n",
       "      <td>0.1810</td>\n",
       "      <td>72.847</td>\n",
       "      <td>5</td>\n",
       "    </tr>\n",
       "    <tr>\n",
       "      <th>9</th>\n",
       "      <td>00FQb4jTyendYWaN8pK0wa</td>\n",
       "      <td>Lana Del Rey</td>\n",
       "      <td>5VoeRuTrGhTbKelUfwymwu</td>\n",
       "      <td>Born To Die - The Paradise Edition</td>\n",
       "      <td>art pop</td>\n",
       "      <td>40266213</td>\n",
       "      <td>92</td>\n",
       "      <td>https://i.scdn.co/image/ab6761610000e5ebb99cac...</td>\n",
       "      <td>https://open.spotify.com/artist/00FQb4jTyendYW...</td>\n",
       "      <td>23</td>\n",
       "      <td>...</td>\n",
       "      <td>1</td>\n",
       "      <td>-9.570</td>\n",
       "      <td>0</td>\n",
       "      <td>0.0297</td>\n",
       "      <td>0.0980</td>\n",
       "      <td>0.000273</td>\n",
       "      <td>0.1290</td>\n",
       "      <td>0.0379</td>\n",
       "      <td>100.024</td>\n",
       "      <td>4</td>\n",
       "    </tr>\n",
       "    <tr>\n",
       "      <th>...</th>\n",
       "      <td>...</td>\n",
       "      <td>...</td>\n",
       "      <td>...</td>\n",
       "      <td>...</td>\n",
       "      <td>...</td>\n",
       "      <td>...</td>\n",
       "      <td>...</td>\n",
       "      <td>...</td>\n",
       "      <td>...</td>\n",
       "      <td>...</td>\n",
       "      <td>...</td>\n",
       "      <td>...</td>\n",
       "      <td>...</td>\n",
       "      <td>...</td>\n",
       "      <td>...</td>\n",
       "      <td>...</td>\n",
       "      <td>...</td>\n",
       "      <td>...</td>\n",
       "      <td>...</td>\n",
       "      <td>...</td>\n",
       "      <td>...</td>\n",
       "    </tr>\n",
       "    <tr>\n",
       "      <th>1100</th>\n",
       "      <td>00FQb4jTyendYWaN8pK0wa</td>\n",
       "      <td>Lana Del Rey</td>\n",
       "      <td>2DpEBrjCur1ythIZ10gJWw</td>\n",
       "      <td>Honeymoon</td>\n",
       "      <td>pop</td>\n",
       "      <td>40266213</td>\n",
       "      <td>92</td>\n",
       "      <td>https://i.scdn.co/image/ab6761610000e5ebb99cac...</td>\n",
       "      <td>https://open.spotify.com/artist/00FQb4jTyendYW...</td>\n",
       "      <td>14</td>\n",
       "      <td>...</td>\n",
       "      <td>7</td>\n",
       "      <td>-10.088</td>\n",
       "      <td>1</td>\n",
       "      <td>0.0314</td>\n",
       "      <td>0.9750</td>\n",
       "      <td>0.018700</td>\n",
       "      <td>0.0988</td>\n",
       "      <td>0.0898</td>\n",
       "      <td>102.031</td>\n",
       "      <td>1</td>\n",
       "    </tr>\n",
       "    <tr>\n",
       "      <th>1102</th>\n",
       "      <td>00FQb4jTyendYWaN8pK0wa</td>\n",
       "      <td>Lana Del Rey</td>\n",
       "      <td>2DpEBrjCur1ythIZ10gJWw</td>\n",
       "      <td>Honeymoon</td>\n",
       "      <td>art pop</td>\n",
       "      <td>40266213</td>\n",
       "      <td>92</td>\n",
       "      <td>https://i.scdn.co/image/ab6761610000e5ebb99cac...</td>\n",
       "      <td>https://open.spotify.com/artist/00FQb4jTyendYW...</td>\n",
       "      <td>14</td>\n",
       "      <td>...</td>\n",
       "      <td>5</td>\n",
       "      <td>-13.265</td>\n",
       "      <td>0</td>\n",
       "      <td>0.0360</td>\n",
       "      <td>0.9530</td>\n",
       "      <td>0.008280</td>\n",
       "      <td>0.1110</td>\n",
       "      <td>0.1730</td>\n",
       "      <td>74.847</td>\n",
       "      <td>3</td>\n",
       "    </tr>\n",
       "    <tr>\n",
       "      <th>1103</th>\n",
       "      <td>00FQb4jTyendYWaN8pK0wa</td>\n",
       "      <td>Lana Del Rey</td>\n",
       "      <td>2DpEBrjCur1ythIZ10gJWw</td>\n",
       "      <td>Honeymoon</td>\n",
       "      <td>pop</td>\n",
       "      <td>40266213</td>\n",
       "      <td>92</td>\n",
       "      <td>https://i.scdn.co/image/ab6761610000e5ebb99cac...</td>\n",
       "      <td>https://open.spotify.com/artist/00FQb4jTyendYW...</td>\n",
       "      <td>14</td>\n",
       "      <td>...</td>\n",
       "      <td>5</td>\n",
       "      <td>-13.265</td>\n",
       "      <td>0</td>\n",
       "      <td>0.0360</td>\n",
       "      <td>0.9530</td>\n",
       "      <td>0.008280</td>\n",
       "      <td>0.1110</td>\n",
       "      <td>0.1730</td>\n",
       "      <td>74.847</td>\n",
       "      <td>3</td>\n",
       "    </tr>\n",
       "    <tr>\n",
       "      <th>1112</th>\n",
       "      <td>00FQb4jTyendYWaN8pK0wa</td>\n",
       "      <td>Lana Del Rey</td>\n",
       "      <td>7xYiTrbTL57QO0bb4hXIKo</td>\n",
       "      <td>Lust For Life</td>\n",
       "      <td>art pop</td>\n",
       "      <td>40266213</td>\n",
       "      <td>92</td>\n",
       "      <td>https://i.scdn.co/image/ab6761610000e5ebb99cac...</td>\n",
       "      <td>https://open.spotify.com/artist/00FQb4jTyendYW...</td>\n",
       "      <td>16</td>\n",
       "      <td>...</td>\n",
       "      <td>1</td>\n",
       "      <td>-8.570</td>\n",
       "      <td>1</td>\n",
       "      <td>0.1260</td>\n",
       "      <td>0.0155</td>\n",
       "      <td>0.000020</td>\n",
       "      <td>0.1990</td>\n",
       "      <td>0.1370</td>\n",
       "      <td>134.981</td>\n",
       "      <td>4</td>\n",
       "    </tr>\n",
       "    <tr>\n",
       "      <th>1113</th>\n",
       "      <td>00FQb4jTyendYWaN8pK0wa</td>\n",
       "      <td>Lana Del Rey</td>\n",
       "      <td>7xYiTrbTL57QO0bb4hXIKo</td>\n",
       "      <td>Lust For Life</td>\n",
       "      <td>pop</td>\n",
       "      <td>40266213</td>\n",
       "      <td>92</td>\n",
       "      <td>https://i.scdn.co/image/ab6761610000e5ebb99cac...</td>\n",
       "      <td>https://open.spotify.com/artist/00FQb4jTyendYW...</td>\n",
       "      <td>16</td>\n",
       "      <td>...</td>\n",
       "      <td>1</td>\n",
       "      <td>-8.570</td>\n",
       "      <td>1</td>\n",
       "      <td>0.1260</td>\n",
       "      <td>0.0155</td>\n",
       "      <td>0.000020</td>\n",
       "      <td>0.1990</td>\n",
       "      <td>0.1370</td>\n",
       "      <td>134.981</td>\n",
       "      <td>4</td>\n",
       "    </tr>\n",
       "  </tbody>\n",
       "</table>\n",
       "<p>364 rows × 26 columns</p>\n",
       "</div>"
      ],
      "text/plain": [
       "                   artist_id   artist_name                album_id  \\\n",
       "3     00FQb4jTyendYWaN8pK0wa  Lana Del Rey  0Dt3FbpMQwjoT5KNAw0IXR   \n",
       "4     00FQb4jTyendYWaN8pK0wa  Lana Del Rey  0Dt3FbpMQwjoT5KNAw0IXR   \n",
       "5     00FQb4jTyendYWaN8pK0wa  Lana Del Rey  5VoeRuTrGhTbKelUfwymwu   \n",
       "6     00FQb4jTyendYWaN8pK0wa  Lana Del Rey  5VoeRuTrGhTbKelUfwymwu   \n",
       "9     00FQb4jTyendYWaN8pK0wa  Lana Del Rey  5VoeRuTrGhTbKelUfwymwu   \n",
       "...                      ...           ...                     ...   \n",
       "1100  00FQb4jTyendYWaN8pK0wa  Lana Del Rey  2DpEBrjCur1ythIZ10gJWw   \n",
       "1102  00FQb4jTyendYWaN8pK0wa  Lana Del Rey  2DpEBrjCur1ythIZ10gJWw   \n",
       "1103  00FQb4jTyendYWaN8pK0wa  Lana Del Rey  2DpEBrjCur1ythIZ10gJWw   \n",
       "1112  00FQb4jTyendYWaN8pK0wa  Lana Del Rey  7xYiTrbTL57QO0bb4hXIKo   \n",
       "1113  00FQb4jTyendYWaN8pK0wa  Lana Del Rey  7xYiTrbTL57QO0bb4hXIKo   \n",
       "\n",
       "                                            album_name   genres  followers  \\\n",
       "3     Born To Die – Paradise Edition (Special Version)  art pop   40266213   \n",
       "4     Born To Die – Paradise Edition (Special Version)      pop   40266213   \n",
       "5                   Born To Die - The Paradise Edition  art pop   40266213   \n",
       "6                   Born To Die - The Paradise Edition      pop   40266213   \n",
       "9                   Born To Die - The Paradise Edition  art pop   40266213   \n",
       "...                                                ...      ...        ...   \n",
       "1100                                         Honeymoon      pop   40266213   \n",
       "1102                                         Honeymoon  art pop   40266213   \n",
       "1103                                         Honeymoon      pop   40266213   \n",
       "1112                                     Lust For Life  art pop   40266213   \n",
       "1113                                     Lust For Life      pop   40266213   \n",
       "\n",
       "      popularity                                         link_image  \\\n",
       "3             92  https://i.scdn.co/image/ab6761610000e5ebb99cac...   \n",
       "4             92  https://i.scdn.co/image/ab6761610000e5ebb99cac...   \n",
       "5             92  https://i.scdn.co/image/ab6761610000e5ebb99cac...   \n",
       "6             92  https://i.scdn.co/image/ab6761610000e5ebb99cac...   \n",
       "9             92  https://i.scdn.co/image/ab6761610000e5ebb99cac...   \n",
       "...          ...                                                ...   \n",
       "1100          92  https://i.scdn.co/image/ab6761610000e5ebb99cac...   \n",
       "1102          92  https://i.scdn.co/image/ab6761610000e5ebb99cac...   \n",
       "1103          92  https://i.scdn.co/image/ab6761610000e5ebb99cac...   \n",
       "1112          92  https://i.scdn.co/image/ab6761610000e5ebb99cac...   \n",
       "1113          92  https://i.scdn.co/image/ab6761610000e5ebb99cac...   \n",
       "\n",
       "                                                    url  total_tracks  ...  \\\n",
       "3     https://open.spotify.com/artist/00FQb4jTyendYW...            24  ...   \n",
       "4     https://open.spotify.com/artist/00FQb4jTyendYW...            24  ...   \n",
       "5     https://open.spotify.com/artist/00FQb4jTyendYW...            23  ...   \n",
       "6     https://open.spotify.com/artist/00FQb4jTyendYW...            23  ...   \n",
       "9     https://open.spotify.com/artist/00FQb4jTyendYW...            23  ...   \n",
       "...                                                 ...           ...  ...   \n",
       "1100  https://open.spotify.com/artist/00FQb4jTyendYW...            14  ...   \n",
       "1102  https://open.spotify.com/artist/00FQb4jTyendYW...            14  ...   \n",
       "1103  https://open.spotify.com/artist/00FQb4jTyendYW...            14  ...   \n",
       "1112  https://open.spotify.com/artist/00FQb4jTyendYW...            16  ...   \n",
       "1113  https://open.spotify.com/artist/00FQb4jTyendYW...            16  ...   \n",
       "\n",
       "     key loudness mode speechiness  acousticness  instrumentalness  liveness  \\\n",
       "3      0   -5.520    1      0.0340        0.1280          0.000002    0.3830   \n",
       "4      0   -5.520    1      0.0340        0.1280          0.000002    0.3830   \n",
       "5      6   -9.595    0      0.0348        0.8110          0.000001    0.0870   \n",
       "6      6   -9.595    0      0.0348        0.8110          0.000001    0.0870   \n",
       "9      1   -9.570    0      0.0297        0.0980          0.000273    0.1290   \n",
       "...   ..      ...  ...         ...           ...               ...       ...   \n",
       "1100   7  -10.088    1      0.0314        0.9750          0.018700    0.0988   \n",
       "1102   5  -13.265    0      0.0360        0.9530          0.008280    0.1110   \n",
       "1103   5  -13.265    0      0.0360        0.9530          0.008280    0.1110   \n",
       "1112   1   -8.570    1      0.1260        0.0155          0.000020    0.1990   \n",
       "1113   1   -8.570    1      0.1260        0.0155          0.000020    0.1990   \n",
       "\n",
       "      valence    tempo  time_signature  \n",
       "3      0.1890   93.763               4  \n",
       "4      0.1890   93.763               4  \n",
       "5      0.1810   72.847               5  \n",
       "6      0.1810   72.847               5  \n",
       "9      0.0379  100.024               4  \n",
       "...       ...      ...             ...  \n",
       "1100   0.0898  102.031               1  \n",
       "1102   0.1730   74.847               3  \n",
       "1103   0.1730   74.847               3  \n",
       "1112   0.1370  134.981               4  \n",
       "1113   0.1370  134.981               4  \n",
       "\n",
       "[364 rows x 26 columns]"
      ]
     },
     "execution_count": 162,
     "metadata": {},
     "output_type": "execute_result"
    }
   ],
   "source": [
    "best_playlist = df[df['followers'] == 40266213]['artist_name']\n",
    "print(\"Best PLaylist\\n\", best_playlist)\n",
    "df[df['followers'] == 40266213]"
   ]
  },
  {
   "cell_type": "markdown",
   "metadata": {},
   "source": [
    "- Checking which artists are featured most across all playlists for top 10 Artists"
   ]
  },
  {
   "cell_type": "code",
   "execution_count": 163,
   "metadata": {},
   "outputs": [
    {
     "data": {
      "text/plain": [
       "artist_name\n",
       "GLAY                608\n",
       "Lana Del Rey        364\n",
       "Stiftelsen           55\n",
       "Samar Singh          33\n",
       "Gould Piano Trio     31\n",
       "ឆន សុវណ្ណរាជ         29\n",
       "Hernan Sepulveda     13\n",
       "Name: count, dtype: int64"
      ]
     },
     "execution_count": 163,
     "metadata": {},
     "output_type": "execute_result"
    }
   ],
   "source": [
    "df['artist_name'].value_counts()"
   ]
  },
  {
   "cell_type": "code",
   "execution_count": 164,
   "metadata": {},
   "outputs": [
    {
     "name": "stderr",
     "output_type": "stream",
     "text": [
      "C:\\Users\\ngmin\\AppData\\Local\\Temp\\ipykernel_21280\\4269999435.py:4: FutureWarning:\n",
      "\n",
      "\n",
      "\n",
      "Passing `palette` without assigning `hue` is deprecated and will be removed in v0.14.0. Assign the `y` variable to `hue` and set `legend=False` for the same effect.\n",
      "\n",
      "\n"
     ]
    },
    {
     "data": {
      "text/plain": [
       "Text(0.5, 0, 'Total songs across playlists')"
      ]
     },
     "execution_count": 164,
     "metadata": {},
     "output_type": "execute_result"
    },
    {
     "name": "stderr",
     "output_type": "stream",
     "text": [
      "C:\\Users\\ngmin\\AppData\\Roaming\\Python\\Python312\\site-packages\\IPython\\core\\events.py:82: UserWarning:\n",
      "\n",
      "Glyph 6022 (\\N{KHMER LETTER CHA}) missing from font(s) Arial.\n",
      "\n",
      "C:\\Users\\ngmin\\AppData\\Roaming\\Python\\Python312\\site-packages\\IPython\\core\\events.py:82: UserWarning:\n",
      "\n",
      "Glyph 6035 (\\N{KHMER LETTER NO}) missing from font(s) Arial.\n",
      "\n",
      "C:\\Users\\ngmin\\AppData\\Roaming\\Python\\Python312\\site-packages\\IPython\\core\\events.py:82: UserWarning:\n",
      "\n",
      "Glyph 6047 (\\N{KHMER LETTER SA}) missing from font(s) Arial.\n",
      "\n",
      "C:\\Users\\ngmin\\AppData\\Roaming\\Python\\Python312\\site-packages\\IPython\\core\\events.py:82: UserWarning:\n",
      "\n",
      "Glyph 6075 (\\N{KHMER VOWEL SIGN U}) missing from font(s) Arial.\n",
      "\n",
      "C:\\Users\\ngmin\\AppData\\Roaming\\Python\\Python312\\site-packages\\IPython\\core\\events.py:82: UserWarning:\n",
      "\n",
      "Glyph 6044 (\\N{KHMER LETTER VO}) missing from font(s) Arial.\n",
      "\n",
      "C:\\Users\\ngmin\\AppData\\Roaming\\Python\\Python312\\site-packages\\IPython\\core\\events.py:82: UserWarning:\n",
      "\n",
      "Glyph 6030 (\\N{KHMER LETTER NNO}) missing from font(s) Arial.\n",
      "\n",
      "C:\\Users\\ngmin\\AppData\\Roaming\\Python\\Python312\\site-packages\\IPython\\core\\events.py:82: UserWarning:\n",
      "\n",
      "Glyph 6098 (\\N{KHMER SIGN COENG}) missing from font(s) Arial.\n",
      "\n",
      "C:\\Users\\ngmin\\AppData\\Roaming\\Python\\Python312\\site-packages\\IPython\\core\\events.py:82: UserWarning:\n",
      "\n",
      "Glyph 6042 (\\N{KHMER LETTER RO}) missing from font(s) Arial.\n",
      "\n",
      "C:\\Users\\ngmin\\AppData\\Roaming\\Python\\Python312\\site-packages\\IPython\\core\\events.py:82: UserWarning:\n",
      "\n",
      "Glyph 6070 (\\N{KHMER VOWEL SIGN AA}) missing from font(s) Arial.\n",
      "\n",
      "C:\\Users\\ngmin\\AppData\\Roaming\\Python\\Python312\\site-packages\\IPython\\core\\events.py:82: UserWarning:\n",
      "\n",
      "Glyph 6023 (\\N{KHMER LETTER CO}) missing from font(s) Arial.\n",
      "\n",
      "C:\\Users\\ngmin\\AppData\\Roaming\\Python\\Python312\\site-packages\\IPython\\core\\pylabtools.py:170: UserWarning:\n",
      "\n",
      "Glyph 6022 (\\N{KHMER LETTER CHA}) missing from font(s) Arial.\n",
      "\n",
      "C:\\Users\\ngmin\\AppData\\Roaming\\Python\\Python312\\site-packages\\IPython\\core\\pylabtools.py:170: UserWarning:\n",
      "\n",
      "Glyph 6035 (\\N{KHMER LETTER NO}) missing from font(s) Arial.\n",
      "\n",
      "C:\\Users\\ngmin\\AppData\\Roaming\\Python\\Python312\\site-packages\\IPython\\core\\pylabtools.py:170: UserWarning:\n",
      "\n",
      "Glyph 6047 (\\N{KHMER LETTER SA}) missing from font(s) Arial.\n",
      "\n",
      "C:\\Users\\ngmin\\AppData\\Roaming\\Python\\Python312\\site-packages\\IPython\\core\\pylabtools.py:170: UserWarning:\n",
      "\n",
      "Glyph 6075 (\\N{KHMER VOWEL SIGN U}) missing from font(s) Arial.\n",
      "\n",
      "C:\\Users\\ngmin\\AppData\\Roaming\\Python\\Python312\\site-packages\\IPython\\core\\pylabtools.py:170: UserWarning:\n",
      "\n",
      "Glyph 6044 (\\N{KHMER LETTER VO}) missing from font(s) Arial.\n",
      "\n",
      "C:\\Users\\ngmin\\AppData\\Roaming\\Python\\Python312\\site-packages\\IPython\\core\\pylabtools.py:170: UserWarning:\n",
      "\n",
      "Glyph 6030 (\\N{KHMER LETTER NNO}) missing from font(s) Arial.\n",
      "\n",
      "C:\\Users\\ngmin\\AppData\\Roaming\\Python\\Python312\\site-packages\\IPython\\core\\pylabtools.py:170: UserWarning:\n",
      "\n",
      "Glyph 6098 (\\N{KHMER SIGN COENG}) missing from font(s) Arial.\n",
      "\n",
      "C:\\Users\\ngmin\\AppData\\Roaming\\Python\\Python312\\site-packages\\IPython\\core\\pylabtools.py:170: UserWarning:\n",
      "\n",
      "Glyph 6042 (\\N{KHMER LETTER RO}) missing from font(s) Arial.\n",
      "\n",
      "C:\\Users\\ngmin\\AppData\\Roaming\\Python\\Python312\\site-packages\\IPython\\core\\pylabtools.py:170: UserWarning:\n",
      "\n",
      "Glyph 6070 (\\N{KHMER VOWEL SIGN AA}) missing from font(s) Arial.\n",
      "\n",
      "C:\\Users\\ngmin\\AppData\\Roaming\\Python\\Python312\\site-packages\\IPython\\core\\pylabtools.py:170: UserWarning:\n",
      "\n",
      "Glyph 6023 (\\N{KHMER LETTER CO}) missing from font(s) Arial.\n",
      "\n"
     ]
    },
    {
     "data": {
      "image/png": "[encoded data removed]",
      "text/plain": [
       "<Figure size 1100x600 with 1 Axes>"
      ]
     },
     "metadata": {},
     "output_type": "display_data"
    }
   ],
   "source": [
    "values = list(df['artist_name'].value_counts()) # take the number of each artist\n",
    "names = df['artist_name'].value_counts().index.tolist() # take the name of each artist\n",
    "\n",
    "ax = sns.barplot(y = names[0:7], x = values[0:7], palette=\"pastel\")\n",
    "ax.set_title('Artists with most featured songs across all playlists')\n",
    "ax.set_xlabel('Total songs across playlists')\n",
    "\n",
    "# Vì ở đây đang làm với dữ liệu nhỏ chỉ có 7 thằng vào dữ liệu chính sẽ chỉnh lại 10 thằng"
   ]
  },
  {
   "cell_type": "markdown",
   "metadata": {},
   "source": [
    "- Checking the distribution of song durations"
   ]
  },
  {
   "cell_type": "code",
   "execution_count": 165,
   "metadata": {},
   "outputs": [],
   "source": [
    "# df['duration_sec'] = df['duration_ms'] / 1000\n",
    "# plt.title('Most songs across playlists are between 3-4 minutes')\n",
    "# plt.xlabel('Song Duration (sec)')\n",
    "# plt.ylabel('Count')\n",
    "# plt.hist(df.drop_duplicates(['duration_ms'], keep = 'first')['duration_sec'], bins = 100)\n",
    "# plt.xlim(0, 500)\n",
    "# plt.show()"
   ]
  },
  {
   "cell_type": "markdown",
   "metadata": {},
   "source": [
    "- Music Over Time"
   ]
  },
  {
   "cell_type": "code",
   "execution_count": 166,
   "metadata": {},
   "outputs": [],
   "source": [
    "# Take the year of the column 'release_date'\n",
    "df['release_date'] = pd.to_datetime(df['release_date'])\n",
    "\n",
    "df['year'] = df['release_date'].dt.year\n",
    "\n",
    "df.drop('release_date', axis = 1, inplace = True)"
   ]
  },
  {
   "cell_type": "code",
   "execution_count": 167,
   "metadata": {},
   "outputs": [
    {
     "name": "stderr",
     "output_type": "stream",
     "text": [
      "C:\\Users\\ngmin\\AppData\\Local\\Temp\\ipykernel_21280\\1108978548.py:10: FutureWarning:\n",
      "\n",
      "\n",
      "\n",
      "Passing `palette` without assigning `hue` is deprecated and will be removed in v0.14.0. Assign the `x` variable to `hue` and set `legend=False` for the same effect.\n",
      "\n",
      "\n",
      "C:\\Users\\ngmin\\AppData\\Local\\Temp\\ipykernel_21280\\1108978548.py:10: UserWarning:\n",
      "\n",
      "The palette list has more values (9) than needed (4), which may not be intended.\n",
      "\n"
     ]
    },
    {
     "data": {
      "text/plain": [
       "<Axes: xlabel='decade', ylabel='count'>"
      ]
     },
     "execution_count": 167,
     "metadata": {},
     "output_type": "execute_result"
    },
    {
     "data": {
      "image/png": "[encoded data removed]",
      "text/plain": [
       "<Figure size 1100x600 with 1 Axes>"
      ]
     },
     "metadata": {},
     "output_type": "display_data"
    }
   ],
   "source": [
    "def get_decade(year):\n",
    "    period_start = int(year/10) * 10\n",
    "    decade = '{}s'.format(period_start)\n",
    "    return decade\n",
    "\n",
    "df['decade'] = df['year'].apply(get_decade)\n",
    "\n",
    "custom = sns.color_palette(\"Set1\") # set colors for each bar\n",
    "sns.set(rc = {'figure.figsize': (11, 6)})\n",
    "sns.countplot(x = df['decade'], palette= custom)\n",
    "\n",
    "# most of musics, nowadays, are belongs to 2010s -> music market is developing day by day -> users have a tendancy to listen modern musics more, or can call Gen-z musics"
   ]
  },
  {
   "cell_type": "markdown",
   "metadata": {},
   "source": [
    "- Characteristic of Different Genres"
   ]
  },
  {
   "cell_type": "code",
   "execution_count": 168,
   "metadata": {},
   "outputs": [
    {
     "data": {
      "application/vnd.plotly.v1+json": {
       "config": {
        "plotlyServerURL": "https://plot.ly"
       },
       "data": [
        {
         "alignmentgroup": "True",
         "hovertemplate": "variable=valence<br>genres=%{x}<br>value=%{y}<extra></extra>",
         "legendgroup": "valence",
         "marker": {
          "color": "#636efa",
          "pattern": {
           "shape": ""
          }
         },
         "name": "valence",
         "offsetgroup": "valence",
         "orientation": "v",
         "showlegend": true,
         "textposition": "auto",
         "type": "bar",
         "x": [
          "pop",
          "art pop",
          "bhojpuri pop",
          null,
          "classic j-pop",
          "j-pop",
          "classic swedish pop",
          "cambodian pop",
          "classical piano trio"
         ],
         "xaxis": "x",
         "y": [
          0.103,
          0.0878,
          0.836,
          0.9,
          0.722,
          0.685,
          0.422,
          0.578,
          0.039
         ],
         "yaxis": "y"
        },
        {
         "alignmentgroup": "True",
         "hovertemplate": "variable=danceability<br>genres=%{x}<br>value=%{y}<extra></extra>",
         "legendgroup": "danceability",
         "marker": {
          "color": "#EF553B",
          "pattern": {
           "shape": ""
          }
         },
         "name": "danceability",
         "offsetgroup": "danceability",
         "orientation": "v",
         "showlegend": true,
         "textposition": "auto",
         "type": "bar",
         "x": [
          "pop",
          "art pop",
          "bhojpuri pop",
          null,
          "classic j-pop",
          "j-pop",
          "classic swedish pop",
          "cambodian pop",
          "classical piano trio"
         ],
         "xaxis": "x",
         "y": [
          0.32,
          0.262,
          0.63,
          0.626,
          0.517,
          0.408,
          0.747,
          0.637,
          0.236
         ],
         "yaxis": "y"
        },
        {
         "alignmentgroup": "True",
         "hovertemplate": "variable=energy<br>genres=%{x}<br>value=%{y}<extra></extra>",
         "legendgroup": "energy",
         "marker": {
          "color": "#00cc96",
          "pattern": {
           "shape": ""
          }
         },
         "name": "energy",
         "offsetgroup": "energy",
         "orientation": "v",
         "showlegend": true,
         "textposition": "auto",
         "type": "bar",
         "x": [
          "pop",
          "art pop",
          "bhojpuri pop",
          null,
          "classic j-pop",
          "j-pop",
          "classic swedish pop",
          "cambodian pop",
          "classical piano trio"
         ],
         "xaxis": "x",
         "y": [
          0.529,
          0.482,
          0.987,
          0.582,
          0.904,
          0.908,
          0.444,
          0.909,
          0.0187
         ],
         "yaxis": "y"
        },
        {
         "alignmentgroup": "True",
         "hovertemplate": "variable=instrumentalness<br>genres=%{x}<br>value=%{y}<extra></extra>",
         "legendgroup": "instrumentalness",
         "marker": {
          "color": "#ab63fa",
          "pattern": {
           "shape": ""
          }
         },
         "name": "instrumentalness",
         "offsetgroup": "instrumentalness",
         "orientation": "v",
         "showlegend": true,
         "textposition": "auto",
         "type": "bar",
         "x": [
          "pop",
          "art pop",
          "bhojpuri pop",
          null,
          "classic j-pop",
          "j-pop",
          "classic swedish pop",
          "cambodian pop",
          "classical piano trio"
         ],
         "xaxis": "x",
         "y": [
          0.0136,
          0.0161,
          0.00000937,
          0.000116,
          0.00000164,
          0,
          0.0000389,
          0.0000217,
          0.793
         ],
         "yaxis": "y"
        },
        {
         "alignmentgroup": "True",
         "hovertemplate": "variable=acousticness<br>genres=%{x}<br>value=%{y}<extra></extra>",
         "legendgroup": "acousticness",
         "marker": {
          "color": "#FFA15A",
          "pattern": {
           "shape": ""
          }
         },
         "name": "acousticness",
         "offsetgroup": "acousticness",
         "orientation": "v",
         "showlegend": true,
         "textposition": "auto",
         "type": "bar",
         "x": [
          "pop",
          "art pop",
          "bhojpuri pop",
          null,
          "classic j-pop",
          "j-pop",
          "classic swedish pop",
          "cambodian pop",
          "classical piano trio"
         ],
         "xaxis": "x",
         "y": [
          0.27,
          0.554,
          0.0669,
          0.515,
          0.00649,
          0.364,
          0.0153,
          0.357,
          0.989
         ],
         "yaxis": "y"
        }
       ],
       "layout": {
        "barmode": "group",
        "legend": {
         "title": {
          "text": "variable"
         },
         "tracegroupgap": 0
        },
        "margin": {
         "t": 60
        },
        "template": {
         "data": {
          "bar": [
           {
            "error_x": {
             "color": "#2a3f5f"
            },
            "error_y": {
             "color": "#2a3f5f"
            },
            "marker": {
             "line": {
              "color": "#E5ECF6",
              "width": 0.5
             },
             "pattern": {
              "fillmode": "overlay",
              "size": 10,
              "solidity": 0.2
             }
            },
            "type": "bar"
           }
          ],
          "barpolar": [
           {
            "marker": {
             "line": {
              "color": "#E5ECF6",
              "width": 0.5
             },
             "pattern": {
              "fillmode": "overlay",
              "size": 10,
              "solidity": 0.2
             }
            },
            "type": "barpolar"
           }
          ],
          "carpet": [
           {
            "aaxis": {
             "endlinecolor": "#2a3f5f",
             "gridcolor": "white",
             "linecolor": "white",
             "minorgridcolor": "white",
             "startlinecolor": "#2a3f5f"
            },
            "baxis": {
             "endlinecolor": "#2a3f5f",
             "gridcolor": "white",
             "linecolor": "white",
             "minorgridcolor": "white",
             "startlinecolor": "#2a3f5f"
            },
            "type": "carpet"
           }
          ],
          "choropleth": [
           {
            "colorbar": {
             "outlinewidth": 0,
             "ticks": ""
            },
            "type": "choropleth"
           }
          ],
          "contour": [
           {
            "colorbar": {
             "outlinewidth": 0,
             "ticks": ""
            },
            "colorscale": [
             [
              0,
              "#0d0887"
             ],
             [
              0.1111111111111111,
              "#46039f"
             ],
             [
              0.2222222222222222,
              "#7201a8"
             ],
             [
              0.3333333333333333,
              "#9c179e"
             ],
             [
              0.4444444444444444,
              "#bd3786"
             ],
             [
              0.5555555555555556,
              "#d8576b"
             ],
             [
              0.6666666666666666,
              "#ed7953"
             ],
             [
              0.7777777777777778,
              "#fb9f3a"
             ],
             [
              0.8888888888888888,
              "#fdca26"
             ],
             [
              1,
              "#f0f921"
             ]
            ],
            "type": "contour"
           }
          ],
          "contourcarpet": [
           {
            "colorbar": {
             "outlinewidth": 0,
             "ticks": ""
            },
            "type": "contourcarpet"
           }
          ],
          "heatmap": [
           {
            "colorbar": {
             "outlinewidth": 0,
             "ticks": ""
            },
            "colorscale": [
             [
              0,
              "#0d0887"
             ],
             [
              0.1111111111111111,
              "#46039f"
             ],
             [
              0.2222222222222222,
              "#7201a8"
             ],
             [
              0.3333333333333333,
              "#9c179e"
             ],
             [
              0.4444444444444444,
              "#bd3786"
             ],
             [
              0.5555555555555556,
              "#d8576b"
             ],
             [
              0.6666666666666666,
              "#ed7953"
             ],
             [
              0.7777777777777778,
              "#fb9f3a"
             ],
             [
              0.8888888888888888,
              "#fdca26"
             ],
             [
              1,
              "#f0f921"
             ]
            ],
            "type": "heatmap"
           }
          ],
          "heatmapgl": [
           {
            "colorbar": {
             "outlinewidth": 0,
             "ticks": ""
            },
            "colorscale": [
             [
              0,
              "#0d0887"
             ],
             [
              0.1111111111111111,
              "#46039f"
             ],
             [
              0.2222222222222222,
              "#7201a8"
             ],
             [
              0.3333333333333333,
              "#9c179e"
             ],
             [
              0.4444444444444444,
              "#bd3786"
             ],
             [
              0.5555555555555556,
              "#d8576b"
             ],
             [
              0.6666666666666666,
              "#ed7953"
             ],
             [
              0.7777777777777778,
              "#fb9f3a"
             ],
             [
              0.8888888888888888,
              "#fdca26"
             ],
             [
              1,
              "#f0f921"
             ]
            ],
            "type": "heatmapgl"
           }
          ],
          "histogram": [
           {
            "marker": {
             "pattern": {
              "fillmode": "overlay",
              "size": 10,
              "solidity": 0.2
             }
            },
            "type": "histogram"
           }
          ],
          "histogram2d": [
           {
            "colorbar": {
             "outlinewidth": 0,
             "ticks": ""
            },
            "colorscale": [
             [
              0,
              "#0d0887"
             ],
             [
              0.1111111111111111,
              "#46039f"
             ],
             [
              0.2222222222222222,
              "#7201a8"
             ],
             [
              0.3333333333333333,
              "#9c179e"
             ],
             [
              0.4444444444444444,
              "#bd3786"
             ],
             [
              0.5555555555555556,
              "#d8576b"
             ],
             [
              0.6666666666666666,
              "#ed7953"
             ],
             [
              0.7777777777777778,
              "#fb9f3a"
             ],
             [
              0.8888888888888888,
              "#fdca26"
             ],
             [
              1,
              "#f0f921"
             ]
            ],
            "type": "histogram2d"
           }
          ],
          "histogram2dcontour": [
           {
            "colorbar": {
             "outlinewidth": 0,
             "ticks": ""
            },
            "colorscale": [
             [
              0,
              "#0d0887"
             ],
             [
              0.1111111111111111,
              "#46039f"
             ],
             [
              0.2222222222222222,
              "#7201a8"
             ],
             [
              0.3333333333333333,
              "#9c179e"
             ],
             [
              0.4444444444444444,
              "#bd3786"
             ],
             [
              0.5555555555555556,
              "#d8576b"
             ],
             [
              0.6666666666666666,
              "#ed7953"
             ],
             [
              0.7777777777777778,
              "#fb9f3a"
             ],
             [
              0.8888888888888888,
              "#fdca26"
             ],
             [
              1,
              "#f0f921"
             ]
            ],
            "type": "histogram2dcontour"
           }
          ],
          "mesh3d": [
           {
            "colorbar": {
             "outlinewidth": 0,
             "ticks": ""
            },
            "type": "mesh3d"
           }
          ],
          "parcoords": [
           {
            "line": {
             "colorbar": {
              "outlinewidth": 0,
              "ticks": ""
             }
            },
            "type": "parcoords"
           }
          ],
          "pie": [
           {
            "automargin": true,
            "type": "pie"
           }
          ],
          "scatter": [
           {
            "fillpattern": {
             "fillmode": "overlay",
             "size": 10,
             "solidity": 0.2
            },
            "type": "scatter"
           }
          ],
          "scatter3d": [
           {
            "line": {
             "colorbar": {
              "outlinewidth": 0,
              "ticks": ""
             }
            },
            "marker": {
             "colorbar": {
              "outlinewidth": 0,
              "ticks": ""
             }
            },
            "type": "scatter3d"
           }
          ],
          "scattercarpet": [
           {
            "marker": {
             "colorbar": {
              "outlinewidth": 0,
              "ticks": ""
             }
            },
            "type": "scattercarpet"
           }
          ],
          "scattergeo": [
           {
            "marker": {
             "colorbar": {
              "outlinewidth": 0,
              "ticks": ""
             }
            },
            "type": "scattergeo"
           }
          ],
          "scattergl": [
           {
            "marker": {
             "colorbar": {
              "outlinewidth": 0,
              "ticks": ""
             }
            },
            "type": "scattergl"
           }
          ],
          "scattermapbox": [
           {
            "marker": {
             "colorbar": {
              "outlinewidth": 0,
              "ticks": ""
             }
            },
            "type": "scattermapbox"
           }
          ],
          "scatterpolar": [
           {
            "marker": {
             "colorbar": {
              "outlinewidth": 0,
              "ticks": ""
             }
            },
            "type": "scatterpolar"
           }
          ],
          "scatterpolargl": [
           {
            "marker": {
             "colorbar": {
              "outlinewidth": 0,
              "ticks": ""
             }
            },
            "type": "scatterpolargl"
           }
          ],
          "scatterternary": [
           {
            "marker": {
             "colorbar": {
              "outlinewidth": 0,
              "ticks": ""
             }
            },
            "type": "scatterternary"
           }
          ],
          "surface": [
           {
            "colorbar": {
             "outlinewidth": 0,
             "ticks": ""
            },
            "colorscale": [
             [
              0,
              "#0d0887"
             ],
             [
              0.1111111111111111,
              "#46039f"
             ],
             [
              0.2222222222222222,
              "#7201a8"
             ],
             [
              0.3333333333333333,
              "#9c179e"
             ],
             [
              0.4444444444444444,
              "#bd3786"
             ],
             [
              0.5555555555555556,
              "#d8576b"
             ],
             [
              0.6666666666666666,
              "#ed7953"
             ],
             [
              0.7777777777777778,
              "#fb9f3a"
             ],
             [
              0.8888888888888888,
              "#fdca26"
             ],
             [
              1,
              "#f0f921"
             ]
            ],
            "type": "surface"
           }
          ],
          "table": [
           {
            "cells": {
             "fill": {
              "color": "#EBF0F8"
             },
             "line": {
              "color": "white"
             }
            },
            "header": {
             "fill": {
              "color": "#C8D4E3"
             },
             "line": {
              "color": "white"
             }
            },
            "type": "table"
           }
          ]
         },
         "layout": {
          "annotationdefaults": {
           "arrowcolor": "#2a3f5f",
           "arrowhead": 0,
           "arrowwidth": 1
          },
          "autotypenumbers": "strict",
          "coloraxis": {
           "colorbar": {
            "outlinewidth": 0,
            "ticks": ""
           }
          },
          "colorscale": {
           "diverging": [
            [
             0,
             "#8e0152"
            ],
            [
             0.1,
             "#c51b7d"
            ],
            [
             0.2,
             "#de77ae"
            ],
            [
             0.3,
             "#f1b6da"
            ],
            [
             0.4,
             "#fde0ef"
            ],
            [
             0.5,
             "#f7f7f7"
            ],
            [
             0.6,
             "#e6f5d0"
            ],
            [
             0.7,
             "#b8e186"
            ],
            [
             0.8,
             "#7fbc41"
            ],
            [
             0.9,
             "#4d9221"
            ],
            [
             1,
             "#276419"
            ]
           ],
           "sequential": [
            [
             0,
             "#0d0887"
            ],
            [
             0.1111111111111111,
             "#46039f"
            ],
            [
             0.2222222222222222,
             "#7201a8"
            ],
            [
             0.3333333333333333,
             "#9c179e"
            ],
            [
             0.4444444444444444,
             "#bd3786"
            ],
            [
             0.5555555555555556,
             "#d8576b"
            ],
            [
             0.6666666666666666,
             "#ed7953"
            ],
            [
             0.7777777777777778,
             "#fb9f3a"
            ],
            [
             0.8888888888888888,
             "#fdca26"
            ],
            [
             1,
             "#f0f921"
            ]
           ],
           "sequentialminus": [
            [
             0,
             "#0d0887"
            ],
            [
             0.1111111111111111,
             "#46039f"
            ],
            [
             0.2222222222222222,
             "#7201a8"
            ],
            [
             0.3333333333333333,
             "#9c179e"
            ],
            [
             0.4444444444444444,
             "#bd3786"
            ],
            [
             0.5555555555555556,
             "#d8576b"
            ],
            [
             0.6666666666666666,
             "#ed7953"
            ],
            [
             0.7777777777777778,
             "#fb9f3a"
            ],
            [
             0.8888888888888888,
             "#fdca26"
            ],
            [
             1,
             "#f0f921"
            ]
           ]
          },
          "colorway": [
           "#636efa",
           "#EF553B",
           "#00cc96",
           "#ab63fa",
           "#FFA15A",
           "#19d3f3",
           "#FF6692",
           "#B6E880",
           "#FF97FF",
           "#FECB52"
          ],
          "font": {
           "color": "#2a3f5f"
          },
          "geo": {
           "bgcolor": "white",
           "lakecolor": "white",
           "landcolor": "#E5ECF6",
           "showlakes": true,
           "showland": true,
           "subunitcolor": "white"
          },
          "hoverlabel": {
           "align": "left"
          },
          "hovermode": "closest",
          "mapbox": {
           "style": "light"
          },
          "paper_bgcolor": "white",
          "plot_bgcolor": "#E5ECF6",
          "polar": {
           "angularaxis": {
            "gridcolor": "white",
            "linecolor": "white",
            "ticks": ""
           },
           "bgcolor": "#E5ECF6",
           "radialaxis": {
            "gridcolor": "white",
            "linecolor": "white",
            "ticks": ""
           }
          },
          "scene": {
           "xaxis": {
            "backgroundcolor": "#E5ECF6",
            "gridcolor": "white",
            "gridwidth": 2,
            "linecolor": "white",
            "showbackground": true,
            "ticks": "",
            "zerolinecolor": "white"
           },
           "yaxis": {
            "backgroundcolor": "#E5ECF6",
            "gridcolor": "white",
            "gridwidth": 2,
            "linecolor": "white",
            "showbackground": true,
            "ticks": "",
            "zerolinecolor": "white"
           },
           "zaxis": {
            "backgroundcolor": "#E5ECF6",
            "gridcolor": "white",
            "gridwidth": 2,
            "linecolor": "white",
            "showbackground": true,
            "ticks": "",
            "zerolinecolor": "white"
           }
          },
          "shapedefaults": {
           "line": {
            "color": "#2a3f5f"
           }
          },
          "ternary": {
           "aaxis": {
            "gridcolor": "white",
            "linecolor": "white",
            "ticks": ""
           },
           "baxis": {
            "gridcolor": "white",
            "linecolor": "white",
            "ticks": ""
           },
           "bgcolor": "#E5ECF6",
           "caxis": {
            "gridcolor": "white",
            "linecolor": "white",
            "ticks": ""
           }
          },
          "title": {
           "x": 0.05
          },
          "xaxis": {
           "automargin": true,
           "gridcolor": "white",
           "linecolor": "white",
           "ticks": "",
           "title": {
            "standoff": 15
           },
           "zerolinecolor": "white",
           "zerolinewidth": 2
          },
          "yaxis": {
           "automargin": true,
           "gridcolor": "white",
           "linecolor": "white",
           "ticks": "",
           "title": {
            "standoff": 15
           },
           "zerolinecolor": "white",
           "zerolinewidth": 2
          }
         }
        },
        "title": {
         "text": "Top 10 Genres by Popularity"
        },
        "width": 1200,
        "xaxis": {
         "anchor": "y",
         "domain": [
          0,
          1
         ],
         "tickangle": -45,
         "title": {
          "text": "Genres"
         }
        },
        "yaxis": {
         "anchor": "x",
         "domain": [
          0,
          1
         ],
         "title": {
          "text": "Scores"
         }
        }
       }
      }
     },
     "metadata": {},
     "output_type": "display_data"
    }
   ],
   "source": [
    "# Sắp xếp cá genre theo popularity top 10 genre\n",
    "top10_gernes = df.sort_values('popularity', ascending=False).drop_duplicates('genres').head(10)\n",
    "\n",
    "# Increase the width and plot\n",
    "fig = px.bar(\n",
    "    top10_gernes,\n",
    "    x='genres',\n",
    "    y=['valence', 'danceability', 'energy', 'instrumentalness', 'acousticness'],\n",
    "    barmode='group',\n",
    "    width=1200\n",
    ")\n",
    "\n",
    "# Xoay nhãn trục x để dễ đọc\n",
    "fig.update_layout(\n",
    "    xaxis=dict(tickangle=-45),\n",
    "    title=\"Top 10 Genres by Popularity\",\n",
    "    xaxis_title=\"Genres\",\n",
    "    yaxis_title=\"Scores\"\n",
    ")\n",
    "fig.show()\n",
    "\n",
    "# According to the audio features for different songs along with that for different genres -> It will help to compare different genres and understand their unique differences in sound  "
   ]
  },
  {
   "cell_type": "markdown",
   "metadata": {},
   "source": [
    "- Word Cloud of Artists"
   ]
  },
  {
   "cell_type": "code",
   "execution_count": 169,
   "metadata": {},
   "outputs": [],
   "source": [
    "artist_counts = df['artist_name'].value_counts()"
   ]
  },
  {
   "cell_type": "code",
   "execution_count": 170,
   "metadata": {},
   "outputs": [
    {
     "data": {
      "image/png": "[encoded data removed]",
      "text/plain": [
       "<Figure size 1000x500 with 1 Axes>"
      ]
     },
     "metadata": {},
     "output_type": "display_data"
    }
   ],
   "source": [
    "from wordcloud import WordCloud, STOPWORDS, ImageColorGenerator\n",
    "\n",
    "text = artist_counts\n",
    "\n",
    "# create and generate a word cloud image:\n",
    "wc = WordCloud(background_color= 'white',).generate_from_frequencies(text)\n",
    "\n",
    "# display the generated image:\n",
    "plt.figure( figsize=(10,5))\n",
    "plt.imshow(wc)\n",
    "plt.axis(\"off\")\n",
    "plt.show()"
   ]
  },
  {
   "cell_type": "markdown",
   "metadata": {},
   "source": [
    "- Top 10 artists and music genres are most popular in the world"
   ]
  },
  {
   "cell_type": "code",
   "execution_count": 171,
   "metadata": {},
   "outputs": [
    {
     "data": {
      "text/html": [
       "<div>\n",
       "<style scoped>\n",
       "    .dataframe tbody tr th:only-of-type {\n",
       "        vertical-align: middle;\n",
       "    }\n",
       "\n",
       "    .dataframe tbody tr th {\n",
       "        vertical-align: top;\n",
       "    }\n",
       "\n",
       "    .dataframe thead th {\n",
       "        text-align: right;\n",
       "    }\n",
       "</style>\n",
       "<table border=\"1\" class=\"dataframe\">\n",
       "  <thead>\n",
       "    <tr style=\"text-align: right;\">\n",
       "      <th></th>\n",
       "      <th>followers</th>\n",
       "    </tr>\n",
       "    <tr>\n",
       "      <th>artist_name</th>\n",
       "      <th></th>\n",
       "    </tr>\n",
       "  </thead>\n",
       "  <tbody>\n",
       "    <tr>\n",
       "      <th>Lana Del Rey</th>\n",
       "      <td>14656901532</td>\n",
       "    </tr>\n",
       "    <tr>\n",
       "      <th>GLAY</th>\n",
       "      <td>359221600</td>\n",
       "    </tr>\n",
       "    <tr>\n",
       "      <th>Samar Singh</th>\n",
       "      <td>18419379</td>\n",
       "    </tr>\n",
       "    <tr>\n",
       "      <th>Stiftelsen</th>\n",
       "      <td>13089945</td>\n",
       "    </tr>\n",
       "    <tr>\n",
       "      <th>Hernan Sepulveda</th>\n",
       "      <td>103519</td>\n",
       "    </tr>\n",
       "    <tr>\n",
       "      <th>ឆន សុវណ្ណរាជ</th>\n",
       "      <td>99731</td>\n",
       "    </tr>\n",
       "    <tr>\n",
       "      <th>Gould Piano Trio</th>\n",
       "      <td>29171</td>\n",
       "    </tr>\n",
       "  </tbody>\n",
       "</table>\n",
       "</div>"
      ],
      "text/plain": [
       "                    followers\n",
       "artist_name                  \n",
       "Lana Del Rey      14656901532\n",
       "GLAY                359221600\n",
       "Samar Singh          18419379\n",
       "Stiftelsen           13089945\n",
       "Hernan Sepulveda       103519\n",
       "ឆន សុវណ្ណរាជ            99731\n",
       "Gould Piano Trio        29171"
      ]
     },
     "execution_count": 171,
     "metadata": {},
     "output_type": "execute_result"
    }
   ],
   "source": [
    "pd.pivot_table(df, index='artist_name', values='followers', aggfunc='sum').sort_values(by='followers', ascending=False)"
   ]
  },
  {
   "cell_type": "code",
   "execution_count": 172,
   "metadata": {},
   "outputs": [
    {
     "data": {
      "text/html": [
       "<div>\n",
       "<style scoped>\n",
       "    .dataframe tbody tr th:only-of-type {\n",
       "        vertical-align: middle;\n",
       "    }\n",
       "\n",
       "    .dataframe tbody tr th {\n",
       "        vertical-align: top;\n",
       "    }\n",
       "\n",
       "    .dataframe thead th {\n",
       "        text-align: right;\n",
       "    }\n",
       "</style>\n",
       "<table border=\"1\" class=\"dataframe\">\n",
       "  <thead>\n",
       "    <tr style=\"text-align: right;\">\n",
       "      <th></th>\n",
       "      <th>popularity</th>\n",
       "    </tr>\n",
       "    <tr>\n",
       "      <th>genres</th>\n",
       "      <th></th>\n",
       "    </tr>\n",
       "  </thead>\n",
       "  <tbody>\n",
       "    <tr>\n",
       "      <th>classic j-pop</th>\n",
       "      <td>17024</td>\n",
       "    </tr>\n",
       "    <tr>\n",
       "      <th>j-pop</th>\n",
       "      <td>17024</td>\n",
       "    </tr>\n",
       "    <tr>\n",
       "      <th>art pop</th>\n",
       "      <td>16744</td>\n",
       "    </tr>\n",
       "    <tr>\n",
       "      <th>pop</th>\n",
       "      <td>16744</td>\n",
       "    </tr>\n",
       "    <tr>\n",
       "      <th>classic swedish pop</th>\n",
       "      <td>2915</td>\n",
       "    </tr>\n",
       "    <tr>\n",
       "      <th>bhojpuri pop</th>\n",
       "      <td>2046</td>\n",
       "    </tr>\n",
       "    <tr>\n",
       "      <th>cambodian pop</th>\n",
       "      <td>638</td>\n",
       "    </tr>\n",
       "    <tr>\n",
       "      <th>classical piano trio</th>\n",
       "      <td>434</td>\n",
       "    </tr>\n",
       "  </tbody>\n",
       "</table>\n",
       "</div>"
      ],
      "text/plain": [
       "                      popularity\n",
       "genres                          \n",
       "classic j-pop              17024\n",
       "j-pop                      17024\n",
       "art pop                    16744\n",
       "pop                        16744\n",
       "classic swedish pop         2915\n",
       "bhojpuri pop                2046\n",
       "cambodian pop                638\n",
       "classical piano trio         434"
      ]
     },
     "execution_count": 172,
     "metadata": {},
     "output_type": "execute_result"
    }
   ],
   "source": [
    "pd.pivot_table(df, index = 'genres', values= 'popularity', aggfunc = 'sum').sort_values(by='popularity', ascending = False)"
   ]
  },
  {
   "cell_type": "markdown",
   "metadata": {},
   "source": [
    "- Clustering my data to see more clearly"
   ]
  },
  {
   "cell_type": "code",
   "execution_count": 173,
   "metadata": {},
   "outputs": [
    {
     "data": {
      "text/plain": [
       "Index(['artist_id', 'artist_name', 'album_id', 'album_name', 'genres',\n",
       "       'followers', 'popularity', 'link_image', 'url', 'total_tracks',\n",
       "       'track_id', 'name', 'preview', 'danceability', 'energy', 'key',\n",
       "       'loudness', 'mode', 'speechiness', 'acousticness', 'instrumentalness',\n",
       "       'liveness', 'valence', 'tempo', 'time_signature', 'year', 'decade'],\n",
       "      dtype='object')"
      ]
     },
     "execution_count": 173,
     "metadata": {},
     "output_type": "execute_result"
    }
   ],
   "source": [
    "df.columns"
   ]
  },
  {
   "cell_type": "code",
   "execution_count": 174,
   "metadata": {},
   "outputs": [],
   "source": [
    "df_tmp = df.drop(['preview', 'artist_id', 'album_id', 'track_id', 'link_image', 'url', 'decade'], axis = 1)"
   ]
  },
  {
   "cell_type": "code",
   "execution_count": 175,
   "metadata": {},
   "outputs": [],
   "source": [
    "df_tmp.dropna(inplace = True)"
   ]
  },
  {
   "cell_type": "code",
   "execution_count": 179,
   "metadata": {},
   "outputs": [],
   "source": [
    "df_numeric = df_tmp.select_dtypes(include= ['float64', 'int64'])"
   ]
  },
  {
   "cell_type": "code",
   "execution_count": 180,
   "metadata": {},
   "outputs": [
    {
     "data": {
      "image/png": "[encoded data removed]",
      "text/plain": [
       "<Figure size 700x700 with 1 Axes>"
      ]
     },
     "metadata": {},
     "output_type": "display_data"
    }
   ],
   "source": [
    "from sklearn.manifold import TSNE\n",
    "\n",
    "model = TSNE(n_components= 2, random_state= 42)\n",
    "tsne_data = model.fit_transform(df_numeric)\n",
    "plt.figure(figsize = (7, 7))\n",
    "plt.scatter(tsne_data[:,0], tsne_data[:,1])\n",
    "plt.show()"
   ]
  }
 ],
 "metadata": {
  "kernelspec": {
   "display_name": "Python 3",
   "language": "python",
   "name": "python3"
  },
  "language_info": {
   "codemirror_mode": {
    "name": "ipython",
    "version": 3
   },
   "file_extension": ".py",
   "mimetype": "text/x-python",
   "name": "python",
   "nbconvert_exporter": "python",
   "pygments_lexer": "ipython3",
   "version": "3.12.7"
  }
 },
 "nbformat": 4,
 "nbformat_minor": 2
}
